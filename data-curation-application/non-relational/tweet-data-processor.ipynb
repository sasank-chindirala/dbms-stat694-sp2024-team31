{
 "cells": [
  {
   "cell_type": "code",
   "execution_count": 1,
   "id": "initial_id",
   "metadata": {
    "collapsed": true,
    "ExecuteTime": {
     "end_time": "2024-04-24T19:44:52.364628Z",
     "start_time": "2024-04-24T19:44:52.271431Z"
    }
   },
   "outputs": [],
   "source": [
    "import json\n",
    "from datetime import datetime\n",
    "import time\n",
    "from pymongo import MongoClient"
   ]
  },
  {
   "cell_type": "code",
   "outputs": [],
   "source": [
    "def connect_to_mongo_database():\n",
    "    try:\n",
    "        client = MongoClient(\"localhost\", 27017)\n",
    "        print(\"Connected to MongoDB database\")\n",
    "        print(f\"Databases available: {client.list_database_names()}\")\n",
    "        return client\n",
    "    except Exception as e:\n",
    "        print(f\"Error occurred while connecting to MongoDB: {e}\")"
   ],
   "metadata": {
    "collapsed": false,
    "ExecuteTime": {
     "end_time": "2024-04-24T19:44:54.748871Z",
     "start_time": "2024-04-24T19:44:54.739108Z"
    }
   },
   "id": "14a7e7b1b7bb966",
   "execution_count": 2
  },
  {
   "cell_type": "code",
   "outputs": [],
   "source": [
    "def create_database(client, db_name):\n",
    "    try:\n",
    "        db = client[db_name]\n",
    "        print(f\"Created the database {db_name} successfully\")\n",
    "        return db\n",
    "    except Exception as e:\n",
    "        print(f\"Error occurred while creating database in mongo: {e}\")"
   ],
   "metadata": {
    "collapsed": false,
    "ExecuteTime": {
     "end_time": "2024-04-24T19:44:58.621085Z",
     "start_time": "2024-04-24T19:44:58.617165Z"
    }
   },
   "id": "e992c31ca03faee3",
   "execution_count": 3
  },
  {
   "cell_type": "code",
   "outputs": [],
   "source": [
    "def create_collection(db, collection_name):\n",
    "    try:\n",
    "        collection = db[collection_name]\n",
    "        print(f\"Created the collection {collection_name} successfully\")\n",
    "        return collection\n",
    "    except Exception as e:\n",
    "        print(f\"Error occurred while creating collection inside mongo database: {e}\")\n",
    "    "
   ],
   "metadata": {
    "collapsed": false,
    "ExecuteTime": {
     "end_time": "2024-04-24T19:45:01.898910Z",
     "start_time": "2024-04-24T19:45:01.894679Z"
    }
   },
   "id": "cac348285a9ec854",
   "execution_count": 4
  },
  {
   "cell_type": "code",
   "outputs": [
    {
     "name": "stdout",
     "output_type": "stream",
     "text": [
      "Connected to MongoDB database\n",
      "Databases available: ['admin', 'bikedb', 'config', 'local', 'twitter-database']\n"
     ]
    }
   ],
   "source": [
    "client = connect_to_mongo_database()"
   ],
   "metadata": {
    "collapsed": false,
    "ExecuteTime": {
     "end_time": "2024-04-24T19:45:04.296561Z",
     "start_time": "2024-04-24T19:45:04.265705Z"
    }
   },
   "id": "2da15a50ad3b3c21",
   "execution_count": 5
  },
  {
   "cell_type": "code",
   "outputs": [
    {
     "name": "stdout",
     "output_type": "stream",
     "text": [
      "Created the database twitter-database-new successfully\n"
     ]
    }
   ],
   "source": [
    "db = create_database(client, \"twitter-database\")"
   ],
   "metadata": {
    "collapsed": false,
    "ExecuteTime": {
     "end_time": "2024-04-24T19:45:15.786530Z",
     "start_time": "2024-04-24T19:45:15.776579Z"
    }
   },
   "id": "80c2317c2f3d4cc7",
   "execution_count": 6
  },
  {
   "cell_type": "code",
   "outputs": [
    {
     "name": "stdout",
     "output_type": "stream",
     "text": [
      "Created the collection tweets successfully\n"
     ]
    }
   ],
   "source": [
    "collection = create_collection(db, \"tweets\")"
   ],
   "metadata": {
    "collapsed": false,
    "ExecuteTime": {
     "end_time": "2024-04-24T19:45:21.751297Z",
     "start_time": "2024-04-24T19:45:21.747194Z"
    }
   },
   "id": "cc85f802480fbbce",
   "execution_count": 7
  },
  {
   "cell_type": "code",
   "outputs": [],
   "source": [
    "class Tweet(object):\n",
    "    \n",
    "    def __init__(self, tweet, retweet_count=1, source_tweet_id=0):\n",
    "        self.tweet_id = tweet['id_str']\n",
    "        self.text =  tweet['text']\n",
    "        self.hashtag = list(map(lambda x: x[\"text\"], tweet['entities']['hashtags']))\n",
    "        self.user_id = tweet['user']['id_str']\n",
    "        self.user_name = tweet['user']['name']\n",
    "        self.user_screen_name = tweet['user']['screen_name']\n",
    "        self.likes_count = tweet['favorite_count']\n",
    "        self.retweet_count = retweet_count\n",
    "        self.source_tweet_id = source_tweet_id\n",
    "        self.tweet_score = 0\n",
    "        self.created_at = self.get_created_date(tweet['created_at'])\n",
    "        \n",
    "    @staticmethod\n",
    "    def get_created_date(created_at):\n",
    "        created_at_date = datetime.strptime(created_at, \"%a %b %d %H:%M:%S %z %Y\")\n",
    "        created_at_date = created_at_date.strftime(\"%Y-%m-%d %H:%M:%S\")\n",
    "        return created_at_date\n",
    "    \n",
    "    def get_tweet(self):\n",
    "        return vars(self)"
   ],
   "metadata": {
    "collapsed": false,
    "ExecuteTime": {
     "end_time": "2024-04-24T19:56:41.168359Z",
     "start_time": "2024-04-24T19:56:41.161177Z"
    }
   },
   "id": "70eb2672735188c6",
   "execution_count": 19
  },
  {
   "cell_type": "code",
   "outputs": [],
   "source": [
    "def insert_tweet(collection, tweet):\n",
    "    try:\n",
    "        collection.insert_one(tweet)\n",
    "    except Exception as e:\n",
    "        print(f\"Error occurred while inserting tweet: {e}\")"
   ],
   "metadata": {
    "collapsed": false,
    "ExecuteTime": {
     "end_time": "2024-04-24T19:56:44.465721Z",
     "start_time": "2024-04-24T19:56:44.461624Z"
    }
   },
   "id": "360a88b526e12103",
   "execution_count": 20
  },
  {
   "cell_type": "code",
   "outputs": [],
   "source": [
    "def update_tweet(collection, tweet_id):\n",
    "    try:\n",
    "        collection.update_one({'tweet_id': tweet_id}, {\"$inc\": {'retweet_count': 1}})\n",
    "    except Exception as e:\n",
    "        print(f\"Error updating tweet {tweet_id}: {e}\")"
   ],
   "metadata": {
    "collapsed": false,
    "ExecuteTime": {
     "end_time": "2024-04-24T19:56:45.310294Z",
     "start_time": "2024-04-24T19:56:45.304923Z"
    }
   },
   "id": "af301e6278ca80d2",
   "execution_count": 21
  },
  {
   "cell_type": "code",
   "outputs": [],
   "source": [
    "def tweet_exists(collection, tweet_id):\n",
    "    tweet = collection.find_one({\"tweet_id\": tweet_id})\n",
    "    return True if tweet else False"
   ],
   "metadata": {
    "collapsed": false,
    "ExecuteTime": {
     "end_time": "2024-04-24T19:56:47.408901Z",
     "start_time": "2024-04-24T19:56:47.403235Z"
    }
   },
   "id": "c0e532589dd6394",
   "execution_count": 22
  },
  {
   "cell_type": "code",
   "outputs": [],
   "source": [
    "def get_tweets_count(collection):\n",
    "    return collection.count_documents({})"
   ],
   "metadata": {
    "collapsed": false,
    "ExecuteTime": {
     "end_time": "2024-04-24T19:56:48.806893Z",
     "start_time": "2024-04-24T19:56:48.801745Z"
    }
   },
   "id": "51062ced6d4af82a",
   "execution_count": 23
  },
  {
   "cell_type": "code",
   "outputs": [],
   "source": [
    "def load_tweet_data_to_database(collection, file_path):\n",
    "    \n",
    "    start_time = time.time()\n",
    "    \n",
    "    with open(file_path, \"r\") as read_file:\n",
    "        for line in read_file:\n",
    "            try:\n",
    "                data = json.loads(line)\n",
    "\n",
    "                if tweet_exists(collection, data['id_str']):\n",
    "                    continue\n",
    "\n",
    "                if data['text'].startswith('RT'):\n",
    "                    if data.get('retweeted_status'):\n",
    "                        source_tweet_id = data.get('retweeted_status').get('id_str')\n",
    "                        if tweet_exists(collection, source_tweet_id):\n",
    "                            update_tweet(collection, source_tweet_id)\n",
    "                        else:\n",
    "                            tweet = data.get('retweeted_status')\n",
    "                            tweet_object = Tweet(tweet)\n",
    "                            insert_tweet(collection, tweet_object.get_tweet())\n",
    "                else:\n",
    "                    source_tweet_id = 0\n",
    "\n",
    "                retweet_object = Tweet(data, 0, source_tweet_id) \n",
    "              \n",
    "                insert_tweet(collection, retweet_object.get_tweet())\n",
    "\n",
    "            except:\n",
    "                continue\n",
    "        \n",
    "    print(f\"Successfully inserted {get_tweets_count(collection)} tweets in {time.time() - start_time} seconds\")"
   ],
   "metadata": {
    "collapsed": false,
    "ExecuteTime": {
     "end_time": "2024-04-24T19:56:53.574769Z",
     "start_time": "2024-04-24T19:56:53.568955Z"
    }
   },
   "id": "90b60e81a24c9b27",
   "execution_count": 24
  },
  {
   "cell_type": "code",
   "outputs": [
    {
     "name": "stdout",
     "output_type": "stream",
     "text": [
      "Successfully inserted 22144 tweets in 76.57179021835327 seconds\n",
      "Successfully loaded collection in 76.57342886924744 seconds\n"
     ]
    }
   ],
   "source": [
    "start_time = time.time()\n",
    "load_tweet_data_to_database(collection, \"../data/corona-out-2\")\n",
    "print(f\"Successfully loaded collection in {time.time() - start_time} seconds\")"
   ],
   "metadata": {
    "collapsed": false,
    "ExecuteTime": {
     "end_time": "2024-04-24T19:58:11.949470Z",
     "start_time": "2024-04-24T19:56:55.366513Z"
    }
   },
   "id": "74265ed453c22a00",
   "execution_count": 25
  },
  {
   "cell_type": "code",
   "outputs": [
    {
     "name": "stdout",
     "output_type": "stream",
     "text": [
      "Successfully inserted 134139 tweets in 2585.4248919487 seconds\n",
      "Successfully loaded collection in 2585.431185245514 seconds\n"
     ]
    }
   ],
   "source": [
    "start_time = time.time()\n",
    "load_tweet_data_to_database(collection, \"../data/corona-out-3\")\n",
    "print(f\"Successfully loaded collection in {time.time() - start_time} seconds\")"
   ],
   "metadata": {
    "collapsed": false,
    "ExecuteTime": {
     "end_time": "2024-04-24T20:43:51.880752Z",
     "start_time": "2024-04-24T20:00:46.438536Z"
    }
   },
   "id": "3cbe01d9674fc753",
   "execution_count": 26
  },
  {
   "cell_type": "code",
   "outputs": [
    {
     "data": {
      "text/plain": "['admin',\n 'bikedb',\n 'config',\n 'local',\n 'twitter-database',\n 'twitter-database-new']"
     },
     "execution_count": 27,
     "metadata": {},
     "output_type": "execute_result"
    }
   ],
   "source": [
    "client.list_database_names()"
   ],
   "metadata": {
    "collapsed": false,
    "ExecuteTime": {
     "end_time": "2024-04-24T20:58:01.058593Z",
     "start_time": "2024-04-24T20:58:01.008639Z"
    }
   },
   "id": "edb1afa559b43632",
   "execution_count": 27
  },
  {
   "cell_type": "code",
   "outputs": [
    {
     "data": {
      "text/plain": "134139"
     },
     "execution_count": 28,
     "metadata": {},
     "output_type": "execute_result"
    }
   ],
   "source": [
    "collection.count_documents({})"
   ],
   "metadata": {
    "collapsed": false,
    "ExecuteTime": {
     "end_time": "2024-04-24T20:58:04.571225Z",
     "start_time": "2024-04-24T20:58:04.508885Z"
    }
   },
   "id": "faa135bb6f41bee",
   "execution_count": 28
  },
  {
   "cell_type": "code",
   "outputs": [
    {
     "data": {
      "text/plain": "UpdateResult({'n': 134139, 'nModified': 134139, 'ok': 1.0, 'updatedExisting': True}, acknowledged=True)"
     },
     "execution_count": 30,
     "metadata": {},
     "output_type": "execute_result"
    }
   ],
   "source": [
    "# Update all documents\n",
    "collection.update_many(\n",
    "    {},  # Filter to select all documents\n",
    "    [\n",
    "        {'$set': {'tweet_score': {'$add': [{'$multiply': [0.6, '$retweet_count']}, {'$multiply': [0.4, '$likes_count']}]} } }\n",
    "    ]\n",
    ")\n"
   ],
   "metadata": {
    "collapsed": false,
    "ExecuteTime": {
     "end_time": "2024-04-24T21:02:02.758676Z",
     "start_time": "2024-04-24T21:02:01.453132Z"
    }
   },
   "id": "2d97bb864eb4044b",
   "execution_count": 30
  },
  {
   "cell_type": "code",
   "outputs": [
    {
     "data": {
      "text/plain": "'text_text'"
     },
     "execution_count": 31,
     "metadata": {},
     "output_type": "execute_result"
    }
   ],
   "source": [
    "collection.create_index([(\"text\", \"text\")])"
   ],
   "metadata": {
    "collapsed": false,
    "ExecuteTime": {
     "end_time": "2024-04-24T21:39:30.119591Z",
     "start_time": "2024-04-24T21:39:30.102829Z"
    }
   },
   "id": "dd426724f3bac61d",
   "execution_count": 31
  },
  {
   "cell_type": "code",
   "outputs": [
    {
     "data": {
      "text/plain": "'user_screen_name_1_tweet_score_-1'"
     },
     "execution_count": 37,
     "metadata": {},
     "output_type": "execute_result"
    }
   ],
   "source": [
    "collection.create_index([(\"user_screen_name\", 1), (\"tweet_score\", -1)])"
   ],
   "metadata": {
    "collapsed": false,
    "ExecuteTime": {
     "end_time": "2024-04-28T23:55:15.953587Z",
     "start_time": "2024-04-28T23:55:15.398639Z"
    }
   },
   "id": "a0804716b8e2b5b3",
   "execution_count": 37
  }
 ],
 "metadata": {
  "kernelspec": {
   "display_name": "Python 3",
   "language": "python",
   "name": "python3"
  },
  "language_info": {
   "codemirror_mode": {
    "name": "ipython",
    "version": 2
   },
   "file_extension": ".py",
   "mimetype": "text/x-python",
   "name": "python",
   "nbconvert_exporter": "python",
   "pygments_lexer": "ipython2",
   "version": "2.7.6"
  }
 },
 "nbformat": 4,
 "nbformat_minor": 5
}
