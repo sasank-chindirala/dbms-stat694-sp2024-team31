{
 "cells": [
  {
   "cell_type": "code",
   "execution_count": 37,
   "id": "initial_id",
   "metadata": {
    "collapsed": true,
    "ExecuteTime": {
     "end_time": "2024-04-03T22:09:42.837069Z",
     "start_time": "2024-04-03T22:09:42.833121Z"
    }
   },
   "outputs": [],
   "source": [
    "import json\n",
    "from datetime import datetime\n",
    "import time\n",
    "from pymongo import MongoClient"
   ]
  },
  {
   "cell_type": "code",
   "outputs": [],
   "source": [
    "def connect_to_mongo_database():\n",
    "    try:\n",
    "        client = MongoClient(\"localhost\", 27017)\n",
    "        print(\"Connected to MongoDB database\")\n",
    "        print(f\"Databases available: {client.list_database_names()}\")\n",
    "        return client\n",
    "    except Exception as e:\n",
    "        print(f\"Error occurred while connecting to MongoDB: {e}\")"
   ],
   "metadata": {
    "collapsed": false,
    "ExecuteTime": {
     "end_time": "2024-04-03T22:09:43.390783Z",
     "start_time": "2024-04-03T22:09:43.383320Z"
    }
   },
   "id": "14a7e7b1b7bb966",
   "execution_count": 38
  },
  {
   "cell_type": "code",
   "outputs": [],
   "source": [
    "def create_database(client, db_name):\n",
    "    try:\n",
    "        db = client[db_name]\n",
    "        print(f\"Created the database {db_name} successfully\")\n",
    "        return db\n",
    "    except Exception as e:\n",
    "        print(f\"Error occurred while creating database in mongo: {e}\")"
   ],
   "metadata": {
    "collapsed": false,
    "ExecuteTime": {
     "end_time": "2024-04-03T22:09:43.795920Z",
     "start_time": "2024-04-03T22:09:43.792588Z"
    }
   },
   "id": "e992c31ca03faee3",
   "execution_count": 39
  },
  {
   "cell_type": "code",
   "outputs": [],
   "source": [
    "def create_collection(db, collection_name):\n",
    "    try:\n",
    "        collection = db[collection_name]\n",
    "        print(f\"Created the collection {collection_name} successfully\")\n",
    "        return collection\n",
    "    except Exception as e:\n",
    "        print(f\"Error occurred while creating collection inside mongo database: {e}\")\n",
    "    "
   ],
   "metadata": {
    "collapsed": false,
    "ExecuteTime": {
     "end_time": "2024-04-03T22:09:44.191712Z",
     "start_time": "2024-04-03T22:09:44.188578Z"
    }
   },
   "id": "cac348285a9ec854",
   "execution_count": 40
  },
  {
   "cell_type": "code",
   "outputs": [
    {
     "name": "stdout",
     "output_type": "stream",
     "text": [
      "Connected to MongoDB database\n",
      "Databases available: ['admin', 'bikedb', 'config', 'local']\n"
     ]
    }
   ],
   "source": [
    "client = connect_to_mongo_database()"
   ],
   "metadata": {
    "collapsed": false,
    "ExecuteTime": {
     "end_time": "2024-04-03T22:09:45.103997Z",
     "start_time": "2024-04-03T22:09:45.092678Z"
    }
   },
   "id": "2da15a50ad3b3c21",
   "execution_count": 41
  },
  {
   "cell_type": "code",
   "outputs": [
    {
     "name": "stdout",
     "output_type": "stream",
     "text": [
      "Created the database twitter-database successfully\n"
     ]
    }
   ],
   "source": [
    "db = create_database(client, \"twitter-database\")"
   ],
   "metadata": {
    "collapsed": false,
    "ExecuteTime": {
     "end_time": "2024-04-03T22:09:45.667707Z",
     "start_time": "2024-04-03T22:09:45.663206Z"
    }
   },
   "id": "80c2317c2f3d4cc7",
   "execution_count": 42
  },
  {
   "cell_type": "code",
   "outputs": [
    {
     "name": "stdout",
     "output_type": "stream",
     "text": [
      "Created the collection tweets successfully\n"
     ]
    }
   ],
   "source": [
    "collection = create_collection(db, \"tweets\")"
   ],
   "metadata": {
    "collapsed": false,
    "ExecuteTime": {
     "end_time": "2024-04-03T22:09:46.665642Z",
     "start_time": "2024-04-03T22:09:46.660005Z"
    }
   },
   "id": "cc85f802480fbbce",
   "execution_count": 43
  },
  {
   "cell_type": "code",
   "outputs": [],
   "source": [
    "class Tweet(object):\n",
    "    \n",
    "    def __init__(self, tweet, retweet_count=1, source_tweet_id=0):\n",
    "        self.tweet_id = tweet['id_str']\n",
    "        self.text =  tweet['text']\n",
    "        self.hashtag = list(map(lambda x: x[\"text\"], tweet['entities']['hashtags']))\n",
    "        self.user_id = tweet['user']['id_str']\n",
    "        self.user_name = tweet['user']['name']\n",
    "        self.likes_count = tweet['favorite_count']\n",
    "        self.retweet_count = retweet_count\n",
    "        self.source_tweet_id = source_tweet_id\n",
    "        self.created_at = self.get_created_date(tweet['created_at'])\n",
    "        \n",
    "    @staticmethod\n",
    "    def get_created_date(created_at):\n",
    "        created_at_date = datetime.strptime(created_at, \"%a %b %d %H:%M:%S %z %Y\")\n",
    "        created_at_date = created_at_date.strftime(\"%Y-%m-%d %H:%M:%S\")\n",
    "        return created_at_date\n",
    "    \n",
    "    def get_tweet(self):\n",
    "        return vars(self)"
   ],
   "metadata": {
    "collapsed": false,
    "ExecuteTime": {
     "end_time": "2024-04-03T22:09:50.143840Z",
     "start_time": "2024-04-03T22:09:50.137436Z"
    }
   },
   "id": "70eb2672735188c6",
   "execution_count": 44
  },
  {
   "cell_type": "code",
   "outputs": [],
   "source": [
    "def insert_tweet(collection, tweet):\n",
    "    try:\n",
    "        collection.insert_one(tweet)\n",
    "    except Exception as e:\n",
    "        print(f\"Error occurred while inserting tweet: {e}\")"
   ],
   "metadata": {
    "collapsed": false,
    "ExecuteTime": {
     "end_time": "2024-04-03T22:09:52.885219Z",
     "start_time": "2024-04-03T22:09:52.880502Z"
    }
   },
   "id": "360a88b526e12103",
   "execution_count": 45
  },
  {
   "cell_type": "code",
   "outputs": [],
   "source": [
    "def update_tweet(collection, tweet_id):\n",
    "    try:\n",
    "        collection.update_one({'tweet_id': tweet_id}, {\"$inc\": {'retweet_count': 1}})\n",
    "    except Exception as e:\n",
    "        print(f\"Error updating tweet {tweet_id}: {e}\")"
   ],
   "metadata": {
    "collapsed": false,
    "ExecuteTime": {
     "end_time": "2024-04-03T22:09:53.336534Z",
     "start_time": "2024-04-03T22:09:53.333379Z"
    }
   },
   "id": "af301e6278ca80d2",
   "execution_count": 46
  },
  {
   "cell_type": "code",
   "outputs": [],
   "source": [
    "def tweet_exists(collection, tweet_id):\n",
    "    tweet = collection.find_one({\"tweet_id\": tweet_id})\n",
    "    return True if tweet else False"
   ],
   "metadata": {
    "collapsed": false,
    "ExecuteTime": {
     "end_time": "2024-04-03T22:09:53.906297Z",
     "start_time": "2024-04-03T22:09:53.901901Z"
    }
   },
   "id": "c0e532589dd6394",
   "execution_count": 47
  },
  {
   "cell_type": "code",
   "outputs": [],
   "source": [
    "def get_tweets_count(collection):\n",
    "    return collection.count_documents({})"
   ],
   "metadata": {
    "collapsed": false,
    "ExecuteTime": {
     "end_time": "2024-04-04T14:05:26.527132Z",
     "start_time": "2024-04-04T14:05:26.524044Z"
    }
   },
   "id": "51062ced6d4af82a",
   "execution_count": 58
  },
  {
   "cell_type": "code",
   "outputs": [],
   "source": [
    "def load_tweet_data_to_database(collection, file_path):\n",
    "    \n",
    "    start_time = time.time()\n",
    "    \n",
    "    with open(file_path, \"r\") as read_file:\n",
    "        for line in read_file:\n",
    "            try:\n",
    "                data = json.loads(line)\n",
    "\n",
    "                if tweet_exists(collection, data['id_str']):\n",
    "                    continue\n",
    "\n",
    "                if data['text'].startswith('RT'):\n",
    "                    if data.get('retweeted_status'):\n",
    "                        source_tweet_id = data.get('retweeted_status').get('id_str')\n",
    "                        if tweet_exists(collection, source_tweet_id):\n",
    "                            update_tweet(collection, source_tweet_id)\n",
    "                        else:\n",
    "                            tweet = data.get('retweeted_status')\n",
    "                            tweet_object = Tweet(tweet)\n",
    "                            insert_tweet(collection, tweet_object.get_tweet())\n",
    "                else:\n",
    "                    source_tweet_id = 0\n",
    "\n",
    "                retweet_object = Tweet(data, 0, source_tweet_id) \n",
    "              \n",
    "                insert_tweet(collection, retweet_object.get_tweet())\n",
    "\n",
    "            except:\n",
    "                continue\n",
    "        \n",
    "    print(f\"Successfully inserted {get_tweets_count(collection)} tweets in {time.time() - start_time} seconds\")"
   ],
   "metadata": {
    "collapsed": false,
    "ExecuteTime": {
     "end_time": "2024-04-04T14:05:36.480470Z",
     "start_time": "2024-04-04T14:05:36.472828Z"
    }
   },
   "id": "90b60e81a24c9b27",
   "execution_count": 59
  },
  {
   "cell_type": "code",
   "outputs": [],
   "source": [
    "load_tweet_data_to_database(collection, \"../data/corona-out-2\")"
   ],
   "metadata": {
    "collapsed": false,
    "ExecuteTime": {
     "end_time": "2024-04-03T22:17:20.923915Z",
     "start_time": "2024-04-03T22:15:58.001976Z"
    }
   },
   "id": "74265ed453c22a00",
   "execution_count": 52
  },
  {
   "cell_type": "code",
   "outputs": [],
   "source": [
    "load_tweet_data_to_database(collection, \"../data/corona-out-3\")"
   ],
   "metadata": {
    "collapsed": false,
    "ExecuteTime": {
     "end_time": "2024-04-03T23:01:28.750398Z",
     "start_time": "2024-04-03T22:17:54.066987Z"
    }
   },
   "id": "3cbe01d9674fc753",
   "execution_count": 55
  },
  {
   "cell_type": "code",
   "outputs": [
    {
     "data": {
      "text/plain": "['admin', 'bikedb', 'config', 'local', 'twitter-database']"
     },
     "execution_count": 56,
     "metadata": {},
     "output_type": "execute_result"
    }
   ],
   "source": [
    "client.list_database_names()"
   ],
   "metadata": {
    "collapsed": false,
    "ExecuteTime": {
     "end_time": "2024-04-03T23:07:52.432493Z",
     "start_time": "2024-04-03T23:07:52.419888Z"
    }
   },
   "id": "edb1afa559b43632",
   "execution_count": 56
  },
  {
   "cell_type": "code",
   "outputs": [
    {
     "data": {
      "text/plain": "134139"
     },
     "execution_count": 60,
     "metadata": {},
     "output_type": "execute_result"
    }
   ],
   "source": [
    "collection.count_documents({})"
   ],
   "metadata": {
    "collapsed": false,
    "ExecuteTime": {
     "end_time": "2024-04-04T14:05:43.178083Z",
     "start_time": "2024-04-04T14:05:43.079061Z"
    }
   },
   "id": "faa135bb6f41bee",
   "execution_count": 60
  },
  {
   "cell_type": "code",
   "outputs": [],
   "source": [],
   "metadata": {
    "collapsed": false
   },
   "id": "2d97bb864eb4044b"
  }
 ],
 "metadata": {
  "kernelspec": {
   "display_name": "Python 3",
   "language": "python",
   "name": "python3"
  },
  "language_info": {
   "codemirror_mode": {
    "name": "ipython",
    "version": 2
   },
   "file_extension": ".py",
   "mimetype": "text/x-python",
   "name": "python",
   "nbconvert_exporter": "python",
   "pygments_lexer": "ipython2",
   "version": "2.7.6"
  }
 },
 "nbformat": 4,
 "nbformat_minor": 5
}
