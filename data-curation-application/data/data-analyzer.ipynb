{
 "cells": [
  {
   "cell_type": "markdown",
   "source": [
    "## Exploring the Dataset Files"
   ],
   "metadata": {
    "collapsed": false
   },
   "id": "b2f7e771dc321205"
  },
  {
   "cell_type": "code",
   "outputs": [],
   "source": [
    "import json"
   ],
   "metadata": {
    "collapsed": true
   },
   "id": "initial_id",
   "execution_count": 0
  },
  {
   "cell_type": "code",
   "outputs": [],
   "source": [
    "# this code block allows you to inspect 2 tweets and 2 retweets in the dataset\n",
    "# it also saves all the unique tweets/retweets in the dictionary tweets\n",
    "# this code will help you to understand the data\n",
    "# feel free to print out more fields\n",
    "\n",
    "lines=0\n",
    "num_tweets=0\n",
    "num_retweets=0\n",
    "print_tweet = 0\n",
    "print_retweet = 0\n",
    "tweets = {}\n",
    "\n",
    "#insert path and replace name of the file below as needed\n",
    "with open(\"/Users/sasankchindirala/PycharmProjects/dbms-project/dbms-stat694-sp2024-team31/data/corona-out-2\", \"r\") as f1:\n",
    "    for line in f1:\n",
    "        try:\n",
    "            data = json.loads(line)\n",
    "            lines = lines + 1\n",
    "            if ( data['text'].startswith('RT') ):\n",
    "                num_retweets += 1\n",
    "                #print out some fields of one retweet \n",
    "                #note that you should look at other fields too\n",
    "                if (print_retweet < 2):\n",
    "                    print_retweet += 1\n",
    "                    print('RETWEET\\n','id--',data['id'],'text--',data['text'],'\\n')\n",
    "                    \n",
    "                    print('User-- ',data['user'],'\\n')\n",
    "                  \n",
    "                    print('retweetstatus--',data['retweeted_status'],'\\n')\n",
    "                  \n",
    "\n",
    "            else:\n",
    "                num_tweets += 1\n",
    "                #print out some fields of one tweet \n",
    "                #note that you should look at other fields too\n",
    "                if (print_tweet < 2):\n",
    "                    print_tweet += 1\n",
    "                    print('TWEET\\n','id--',data['id'],'text--',data['text'],'\\n')\n",
    "                    print('User-- ',data['user'],'\\n')\n",
    "                    \n",
    "\n",
    "\n",
    "            if (data['id_str'] not in tweets):\n",
    "                tweets[data['id_str']] = data\n",
    "            \n",
    "        except:\n",
    "            # if there is an error loading the json of the tweet, skip\n",
    "            continue\n",
    "            \n",
    "print('num of lines=',lines, 'num of tweets=',num_tweets, 'num of retweets=',num_retweets)\n",
    "print('num of unique tweets/retweets=',len(tweets.keys()))"
   ],
   "metadata": {
    "collapsed": false
   },
   "id": "f926412769614dab"
  },
  {
   "cell_type": "code",
   "outputs": [],
   "source": [
    "# print the last data item\n",
    "data"
   ],
   "metadata": {
    "collapsed": false
   },
   "id": "a9d646ce0bb2ccd0"
  },
  {
   "cell_type": "code",
   "outputs": [],
   "source": [
    "data['user']"
   ],
   "metadata": {
    "collapsed": false
   },
   "id": "2ed5b7b6c3b1eb5f"
  },
  {
   "cell_type": "code",
   "outputs": [],
   "source": [
    "# this is a partial template for processing the dataset to store into the datastores.\n",
    "# you will need to write functions for the psuedocode sections and invoke them here\n",
    "\n",
    "#insert path and replace name of the file below as needed\n",
    "with open(\"/Users/sasankchindirala/PycharmProjects/dbms-project/dbms-stat694-sp2024-team31/data/corona-out-2\", \"r\") as f1:\n",
    "    for line in f1:\n",
    "        try:\n",
    "            data = json.loads(line)\n",
    "            # pseudocode: \n",
    "            # if tweet has been seen before, \n",
    "            #         continue (ignore this tweet, go to next iteration of loop)\n",
    "            \n",
    "            user = data['user']\n",
    "            # psuedocode: \n",
    "            # if user has not been seen before\n",
    "            #            add to user table \n",
    "            # update datastores with any metrics that you are tracking \n",
    "            \n",
    "            if ( data['text'].startswith('RT') ):\n",
    "                # psuedocode:\n",
    "                # update retweet information\n",
    "                # note that you may not have an entry for the original tweet \n",
    "                # if that is not in the dataset\n",
    "                pass  # does nothing right now\n",
    "                \n",
    "            else:\n",
    "                # psuedocode:\n",
    "                # add the new tweet to datastore\n",
    "                pass # does nothing right now\n",
    "        except:\n",
    "            continue"
   ],
   "metadata": {
    "collapsed": false
   },
   "id": "1c1611de05c6ce57"
  },
  {
   "cell_type": "markdown",
   "source": [
    "## Performing some Exploratory Data Analysis "
   ],
   "metadata": {
    "collapsed": false
   },
   "id": "b0cc71f595820194"
  },
  {
   "cell_type": "code",
   "outputs": [],
   "source": [
    "import pandas as pd\n",
    "from matplotlib import pyplot as plt"
   ],
   "metadata": {
    "collapsed": false,
    "ExecuteTime": {
     "end_time": "2024-04-28T19:33:37.374497Z",
     "start_time": "2024-04-28T19:33:36.502788Z"
    }
   },
   "id": "b340be2ac969e55f",
   "execution_count": 9
  },
  {
   "cell_type": "code",
   "outputs": [],
   "source": [
    "cor_2_df = pd.read_json(\"corona-out-2\", lines=True)\n",
    "cor_3_df = pd.read_json(\"corona-out-3\", lines=True)"
   ],
   "metadata": {
    "collapsed": false,
    "ExecuteTime": {
     "end_time": "2024-04-28T18:56:23.140638Z",
     "start_time": "2024-04-28T18:56:12.920918Z"
    }
   },
   "id": "746469ef8eb874d6",
   "execution_count": 2
  },
  {
   "cell_type": "code",
   "outputs": [],
   "source": [
    "df = pd.concat([cor_2_df, cor_3_df])"
   ],
   "metadata": {
    "collapsed": false,
    "ExecuteTime": {
     "end_time": "2024-04-28T18:57:32.648196Z",
     "start_time": "2024-04-28T18:57:31.756757Z"
    }
   },
   "id": "ce5c429109687429",
   "execution_count": 3
  },
  {
   "cell_type": "code",
   "outputs": [
    {
     "name": "stdout",
     "output_type": "stream",
     "text": [
      "(120434, 37)\n"
     ]
    }
   ],
   "source": [
    "print(df.shape)"
   ],
   "metadata": {
    "collapsed": false,
    "ExecuteTime": {
     "end_time": "2024-04-28T18:57:51.947927Z",
     "start_time": "2024-04-28T18:57:51.945300Z"
    }
   },
   "id": "fd177c5f03b3b70b",
   "execution_count": 5
  },
  {
   "cell_type": "code",
   "outputs": [
    {
     "name": "stdout",
     "output_type": "stream",
     "text": [
      "<class 'pandas.core.frame.DataFrame'>\n",
      "Index: 120434 entries, 0 to 101915\n",
      "Data columns (total 37 columns):\n",
      " #   Column                     Non-Null Count   Dtype              \n",
      "---  ------                     --------------   -----              \n",
      " 0   created_at                 120434 non-null  datetime64[ns, UTC]\n",
      " 1   id                         120434 non-null  int64              \n",
      " 2   id_str                     120434 non-null  int64              \n",
      " 3   text                       120434 non-null  object             \n",
      " 4   source                     120434 non-null  object             \n",
      " 5   truncated                  120434 non-null  bool               \n",
      " 6   in_reply_to_status_id      16138 non-null   float64            \n",
      " 7   in_reply_to_status_id_str  16138 non-null   float64            \n",
      " 8   in_reply_to_user_id        17589 non-null   float64            \n",
      " 9   in_reply_to_user_id_str    17589 non-null   float64            \n",
      " 10  in_reply_to_screen_name    17589 non-null   object             \n",
      " 11  user                       120434 non-null  object             \n",
      " 12  geo                        90 non-null      object             \n",
      " 13  coordinates                90 non-null      object             \n",
      " 14  place                      1644 non-null    object             \n",
      " 15  contributors               0 non-null       float64            \n",
      " 16  retweeted_status           72260 non-null   object             \n",
      " 17  quoted_status_id           19142 non-null   float64            \n",
      " 18  quoted_status_id_str       19142 non-null   float64            \n",
      " 19  quoted_status              19117 non-null   object             \n",
      " 20  quoted_status_permalink    19117 non-null   object             \n",
      " 21  is_quote_status            120434 non-null  bool               \n",
      " 22  quote_count                120434 non-null  int64              \n",
      " 23  reply_count                120434 non-null  int64              \n",
      " 24  retweet_count              120434 non-null  int64              \n",
      " 25  favorite_count             120434 non-null  int64              \n",
      " 26  entities                   120434 non-null  object             \n",
      " 27  favorited                  120434 non-null  bool               \n",
      " 28  retweeted                  120434 non-null  bool               \n",
      " 29  filter_level               120434 non-null  object             \n",
      " 30  lang                       120434 non-null  object             \n",
      " 31  timestamp_ms               120434 non-null  datetime64[ns]     \n",
      " 32  display_text_range         21307 non-null   object             \n",
      " 33  extended_tweet             20672 non-null   object             \n",
      " 34  possibly_sensitive         30882 non-null   float64            \n",
      " 35  extended_entities          8351 non-null    object             \n",
      " 36  withheld_in_countries      127 non-null     object             \n",
      "dtypes: bool(4), datetime64[ns, UTC](1), datetime64[ns](1), float64(8), int64(6), object(17)\n",
      "memory usage: 31.7+ MB\n"
     ]
    }
   ],
   "source": [
    "df.info()"
   ],
   "metadata": {
    "collapsed": false,
    "ExecuteTime": {
     "end_time": "2024-04-28T19:16:20.263263Z",
     "start_time": "2024-04-28T19:16:20.137712Z"
    }
   },
   "id": "eeb66681511c666",
   "execution_count": 7
  },
  {
   "cell_type": "code",
   "outputs": [],
   "source": [
    "def classify_tweet(tweet):\n",
    "    if isinstance(tweet['retweeted_status'], dict):\n",
    "        return 'Retweet'\n",
    "    elif isinstance(tweet['quoted_status'], dict):\n",
    "        return 'Quoted Tweet'\n",
    "    return 'Original Tweet'"
   ],
   "metadata": {
    "collapsed": false,
    "ExecuteTime": {
     "end_time": "2024-04-28T19:47:01.788472Z",
     "start_time": "2024-04-28T19:47:01.784196Z"
    }
   },
   "id": "f6e9608d1ccab035",
   "execution_count": 29
  },
  {
   "cell_type": "code",
   "outputs": [],
   "source": [
    "df['tweet_type'] = df.apply(classify_tweet, axis=1)\n",
    "tweet_counts = df['tweet_type'].value_counts()"
   ],
   "metadata": {
    "collapsed": false,
    "ExecuteTime": {
     "end_time": "2024-04-28T19:47:03.639322Z",
     "start_time": "2024-04-28T19:47:02.784737Z"
    }
   },
   "id": "f06eb26d90738b2b",
   "execution_count": 30
  },
  {
   "cell_type": "code",
   "outputs": [
    {
     "data": {
      "text/plain": "<Figure size 640x480 with 1 Axes>",
      "image/png": "[encoded data removed]"
     },
     "metadata": {},
     "output_type": "display_data"
    }
   ],
   "source": [
    "plt.pie(tweet_counts, labels=tweet_counts.index, autopct='%1.1f%%', startangle=180, colors=['lightblue', 'lightgreen', 'red'])\n",
    "plt.title('Tweet Type Distribution')\n",
    "plt.show()"
   ],
   "metadata": {
    "collapsed": false,
    "ExecuteTime": {
     "end_time": "2024-04-28T19:47:24.371277Z",
     "start_time": "2024-04-28T19:47:24.300517Z"
    }
   },
   "id": "87e102d1893989bb",
   "execution_count": 32
  },
  {
   "cell_type": "code",
   "outputs": [
    {
     "data": {
      "text/plain": "<Figure size 800x600 with 1 Axes>",
      "image/png": "[encoded data removed]"
     },
     "metadata": {},
     "output_type": "display_data"
    }
   ],
   "source": [
    "categories = ['Users', 'Tweets']\n",
    "values = [108043, 134139]\n",
    "colors = ['blue', 'green']  # Baby blue and light pink\n",
    "\n",
    "# Create bar plot\n",
    "plt.figure(figsize=(8, 6))\n",
    "bars = plt.bar(categories, values, color=colors)\n",
    "\n",
    "for bar in bars:\n",
    "    yval = bar.get_height()\n",
    "    plt.text(bar.get_x() + bar.get_width()/2, yval, f'{yval:,}', ha='center', va='bottom', fontsize=10, color='black')\n",
    "\n",
    "\n",
    "plt.ylabel('Count')\n",
    "plt.title('User & Tweet Counts')\n",
    "plt.show()"
   ],
   "metadata": {
    "collapsed": false,
    "ExecuteTime": {
     "end_time": "2024-04-28T19:56:50.009641Z",
     "start_time": "2024-04-28T19:56:49.948761Z"
    }
   },
   "id": "a0ed79b191acf42",
   "execution_count": 35
  },
  {
   "cell_type": "code",
   "outputs": [],
   "source": [],
   "metadata": {
    "collapsed": false
   },
   "id": "e6aac85977ab10db"
  }
 ],
 "metadata": {
  "kernelspec": {
   "display_name": "Python 3",
   "language": "python",
   "name": "python3"
  },
  "language_info": {
   "codemirror_mode": {
    "name": "ipython",
    "version": 2
   },
   "file_extension": ".py",
   "mimetype": "text/x-python",
   "name": "python",
   "nbconvert_exporter": "python",
   "pygments_lexer": "ipython2",
   "version": "2.7.6"
  }
 },
 "nbformat": 4,
 "nbformat_minor": 5
}
