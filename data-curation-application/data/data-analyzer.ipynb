{
 "cells": [
  {
   "cell_type": "code",
   "execution_count": null,
   "id": "initial_id",
   "metadata": {
    "collapsed": true
   },
   "outputs": [],
   "source": [
    "import json"
   ]
  },
  {
   "cell_type": "code",
   "outputs": [],
   "source": [
    "# this code block allows you to inspect 2 tweets and 2 retweets in the dataset\n",
    "# it also saves all the unique tweets/retweets in the dictionary tweets\n",
    "# this code will help you to understand the data\n",
    "# feel free to print out more fields\n",
    "\n",
    "lines=0\n",
    "num_tweets=0\n",
    "num_retweets=0\n",
    "print_tweet = 0\n",
    "print_retweet = 0\n",
    "tweets = {}\n",
    "\n",
    "#insert path and replace name of the file below as needed\n",
    "with open(\"/Users/sasankchindirala/PycharmProjects/dbms-project/dbms-stat694-sp2024-team31/data/corona-out-2\", \"r\") as f1:\n",
    "    for line in f1:\n",
    "        try:\n",
    "            data = json.loads(line)\n",
    "            lines = lines + 1\n",
    "            if ( data['text'].startswith('RT') ):\n",
    "                num_retweets += 1\n",
    "                #print out some fields of one retweet \n",
    "                #note that you should look at other fields too\n",
    "                if (print_retweet < 2):\n",
    "                    print_retweet += 1\n",
    "                    print('RETWEET\\n','id--',data['id'],'text--',data['text'],'\\n')\n",
    "                    \n",
    "                    print('User-- ',data['user'],'\\n')\n",
    "                  \n",
    "                    print('retweetstatus--',data['retweeted_status'],'\\n')\n",
    "                  \n",
    "\n",
    "            else:\n",
    "                num_tweets += 1\n",
    "                #print out some fields of one tweet \n",
    "                #note that you should look at other fields too\n",
    "                if (print_tweet < 2):\n",
    "                    print_tweet += 1\n",
    "                    print('TWEET\\n','id--',data['id'],'text--',data['text'],'\\n')\n",
    "                    print('User-- ',data['user'],'\\n')\n",
    "                    \n",
    "\n",
    "\n",
    "            if (data['id_str'] not in tweets):\n",
    "                tweets[data['id_str']] = data\n",
    "            \n",
    "        except:\n",
    "            # if there is an error loading the json of the tweet, skip\n",
    "            continue\n",
    "            \n",
    "print('num of lines=',lines, 'num of tweets=',num_tweets, 'num of retweets=',num_retweets)\n",
    "print('num of unique tweets/retweets=',len(tweets.keys()))"
   ],
   "metadata": {
    "collapsed": false
   },
   "id": "f926412769614dab"
  },
  {
   "cell_type": "code",
   "outputs": [],
   "source": [
    "# print the last data item\n",
    "data"
   ],
   "metadata": {
    "collapsed": false
   },
   "id": "a9d646ce0bb2ccd0"
  },
  {
   "cell_type": "code",
   "outputs": [],
   "source": [
    "data['user']"
   ],
   "metadata": {
    "collapsed": false
   },
   "id": "2ed5b7b6c3b1eb5f"
  },
  {
   "cell_type": "code",
   "outputs": [],
   "source": [
    "# this is a partial template for processing the dataset to store into the datastores.\n",
    "# you will need to write functions for the psuedocode sections and invoke them here\n",
    "\n",
    "#insert path and replace name of the file below as needed\n",
    "with open(\"/Users/sasankchindirala/PycharmProjects/dbms-project/dbms-stat694-sp2024-team31/data/corona-out-2\", \"r\") as f1:\n",
    "    for line in f1:\n",
    "        try:\n",
    "            data = json.loads(line)\n",
    "            # pseudocode: \n",
    "            # if tweet has been seen before, \n",
    "            #         continue (ignore this tweet, go to next iteration of loop)\n",
    "            \n",
    "            user = data['user']\n",
    "            # psuedocode: \n",
    "            # if user has not been seen before\n",
    "            #            add to user table \n",
    "            # update datastores with any metrics that you are tracking \n",
    "            \n",
    "            if ( data['text'].startswith('RT') ):\n",
    "                # psuedocode:\n",
    "                # update retweet information\n",
    "                # note that you may not have an entry for the original tweet \n",
    "                # if that is not in the dataset\n",
    "                pass  # does nothing right now\n",
    "                \n",
    "            else:\n",
    "                # psuedocode:\n",
    "                # add the new tweet to datastore\n",
    "                pass # does nothing right now\n",
    "        except:\n",
    "            continue"
   ],
   "metadata": {
    "collapsed": false
   },
   "id": "1c1611de05c6ce57"
  }
 ],
 "metadata": {
  "kernelspec": {
   "display_name": "Python 3",
   "language": "python",
   "name": "python3"
  },
  "language_info": {
   "codemirror_mode": {
    "name": "ipython",
    "version": 2
   },
   "file_extension": ".py",
   "mimetype": "text/x-python",
   "name": "python",
   "nbconvert_exporter": "python",
   "pygments_lexer": "ipython2",
   "version": "2.7.6"
  }
 },
 "nbformat": 4,
 "nbformat_minor": 5
}
